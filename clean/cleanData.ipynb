{
 "cells": [
  {
   "cell_type": "code",
   "execution_count": 1,
   "metadata": {},
   "outputs": [],
   "source": [
    "import pandas as pd\n",
    "import pickle\n",
    "\n",
    "# Methods for saving Python objects.\n",
    "def save_obj(obj, saveFile):\n",
    "    with open(saveFile + '.pkl', 'wb') as fid:\n",
    "        pickle.dump(obj, fid, pickle.HIGHEST_PROTOCOL)\n",
    "\n",
    "# Path to project directory.\n",
    "path = \"/home/xander/Projects/plotly/\"\n",
    "\n",
    "# DataFrame.\n",
    "df = pd.read_csv(path + \"data/sampleData/integrated_call_samples_v3.20130502.ALL.panel\", index_col=0, sep='\\t')\n",
    "df.dropna(inplace=True, axis=1)\n",
    "df.to_csv(path + \"data/cleaned/sampleData.csv\")\n",
    "\n",
    "# Population codes.\n",
    "pop_df = pd.read_csv(path + \"data/sampleData/populations.tsv\", sep='\\t')\n",
    "pop_df = pop_df[[\"Population Code\", \"Population Description\", \"Super Population\"]]\n",
    "pop_df.dropna(inplace=True)\n",
    "pop_df.set_index(\"Population Code\", inplace=True)\n",
    "ll_df = pd.read_csv(path + \"data/sampleData/latsLongs.tsv\", sep='\\t', index_col=0)\n",
    "pop_df = pop_df.join(ll_df)\n",
    "pop_df.sort_values(by=[\"Population Description\"], inplace=True)\n",
    "pops = pop_df.index.tolist()\n",
    "save_obj(pops, path + \"data/cleaned/pops\")\n",
    "\n",
    "# Dictionary mapping population codes to descriptions\n",
    "pop2descrip = dict(zip(pops, pop_df[\"Population Description\"].tolist()))\n",
    "save_obj(pop2descrip, path + \"data/cleaned/pop2descrip\")\n",
    "\n",
    "# Dictionary mapping super population codes to descriptions.\n",
    "spops = df[\"Super Population\"].tolist()\n",
    "spops = list(set(spops))\n",
    "spops.sort()\n",
    "spop2descrip = dict(zip(spops, [\"African\", \"Admixed American\", \"East Asian\", \"European\", \"South Asian\"]))\n",
    "save_obj(spop2descrip, path + \"data/cleaned/spop2descrip\")"
   ]
  },
  {
   "cell_type": "code",
   "execution_count": 4,
   "metadata": {},
   "outputs": [],
   "source": [
    "# Mapping into LAB space.\n",
    "\n",
    "from colormath.color_objects import LabColor, sRGBColor\n",
    "from colormath.color_conversions import convert_color\n",
    "\n",
    "\n",
    "lats, longs = pop_df[\"Latitude\"].values, pop_df[\"Longitude\"].values\n",
    "lats *= 128 / 90\n",
    "longs *= 128 / 180\n",
    "\n",
    "popColors = list()\n",
    "for lat, long in zip(lats, longs):\n",
    "    lab = LabColor(75, lat, long)\n",
    "    rgb = convert_color(lab, sRGBColor).get_upscaled_value_tuple()\n",
    "    colorStr = \"rgb(\" + \", \".join(map(str, rgb)) + \")\"\n",
    "    popColors.append(colorStr)\n",
    "    \n",
    "# Dictionary mapping populations to colors.\n",
    "pop2rgb = dict(zip(pops, popColors))\n",
    "save_obj(pop2rgb, path + \"data/cleaned/pop2rgb\")"
   ]
  },
  {
   "cell_type": "code",
   "execution_count": 3,
   "metadata": {},
   "outputs": [
    {
     "name": "stdout",
     "output_type": "stream",
     "text": [
      "247.3192098765432 101.20464197530863\n",
      "279.33632 95.9155911111111\n"
     ]
    }
   ],
   "source": [
    "# Mapping into HSV space.\n",
    "\n",
    "from colormath.color_objects import HSVColor, sRGBColor\n",
    "from colormath.color_conversions import convert_color\n",
    "\n",
    "\n",
    "lats, longs = pop_df[\"Latitude\"].values + 90, pop_df[\"Longitude\"].values + 180\n",
    "lats *= 250 / 180\n",
    "print(lats.max(), lats.min())\n",
    "print(longs.max(), longs.min())\n",
    "\n",
    "\n",
    "popColors = list()\n",
    "for lat, long in zip(lats, longs):\n",
    "    hsv = HSVColor(long, 1, lat)\n",
    "    rgb = convert_color(hsv, sRGBColor).get_upscaled_value_tuple()\n",
    "    colorStr = \"rgb(\" + \", \".join(map(str, rgb)) + \")\"\n",
    "    popColors.append(colorStr)\n",
    "    \n",
    "# Dictionary mapping populations to colors.\n",
    "pop2rgb = dict(zip(pops, popColors))\n",
    "save_obj(pop2rgb, path + \"data/cleaned/pop2rgb\")"
   ]
  },
  {
   "cell_type": "code",
   "execution_count": 21,
   "metadata": {},
   "outputs": [],
   "source": [
    "from matplotlib.cm import get_cmap\n",
    "from matplotlib.colors import to_rgb\n",
    "import numpy as np\n",
    "\n",
    "cmap = get_cmap('rainbow')\n",
    "numPops = len(pops)\n",
    "colors = cmap(np.array(range(numPops)) / (numPops - 1))\n",
    "colors = colors[:,:3]\n",
    "color = np.round(colors * 255)\n",
    "popColors = list()\n",
    "for rgb in color.tolist():\n",
    "    rgbStr = \"rgb(\" + \", \".join(map(lambda x: str(int(x)), rgb)) + \")\"\n",
    "    popColors.append(rgbStr)\n",
    "    \n",
    "# Dictionary mapping populations to colors.\n",
    "pop2rgb = dict(zip(pops, popColors))\n",
    "save_obj(pop2rgb, path + \"data/cleaned/pop2rgb\")"
   ]
  }
 ],
 "metadata": {
  "kernelspec": {
   "display_name": "env",
   "language": "python",
   "name": "env"
  },
  "language_info": {
   "codemirror_mode": {
    "name": "ipython",
    "version": 3
   },
   "file_extension": ".py",
   "mimetype": "text/x-python",
   "name": "python",
   "nbconvert_exporter": "python",
   "pygments_lexer": "ipython3",
   "version": "3.5.2"
  },
  "latex_envs": {
   "LaTeX_envs_menu_present": true,
   "autoclose": false,
   "autocomplete": true,
   "bibliofile": "biblio.bib",
   "cite_by": "apalike",
   "current_citInitial": 1,
   "eqLabelWithNumbers": true,
   "eqNumInitial": 1,
   "hotkeys": {
    "equation": "Ctrl-E",
    "itemize": "Ctrl-I"
   },
   "labels_anchors": false,
   "latex_user_defs": false,
   "report_style_numbering": false,
   "user_envs_cfg": false
  }
 },
 "nbformat": 4,
 "nbformat_minor": 2
}
